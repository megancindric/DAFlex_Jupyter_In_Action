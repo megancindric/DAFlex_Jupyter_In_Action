{
 "cells": [
  {
   "cell_type": "markdown",
   "metadata": {},
   "source": [
    "### Bonus Jupiter Notebook Practice"
   ]
  },
  {
   "cell_type": "markdown",
   "metadata": {},
   "source": [
    "##### Write a function that takes in a list of numbers\n",
    "    - Your function should create a new dictionary, with two keys\n",
    "        - The \"Odd\" key should hold a list of all odd values\n",
    "        - The \"Even\" key should hold a list of all even values\n",
    "    - The function should return this new dictionary\n",
    "    - Print the resulting dictionary to the terminal.\n"
   ]
  },
  {
   "cell_type": "code",
   "execution_count": null,
   "metadata": {},
   "outputs": [],
   "source": [
    "def odd_even_dictionary(list_of_integers):\n",
    "    pass"
   ]
  },
  {
   "cell_type": "markdown",
   "metadata": {},
   "source": [
    "##### Write a function that takes in a string\n",
    "    - The function should determine if every vowel is present in that string\n",
    "        - If so, print \"Congratulations, you passed the Vowel Test\"\n",
    "        - therwise print \"Wrong! Try another string!\"\n",
    "    - HINT: A set of all vowels {'a','e','i','o','u'} will be helpful for this task!\n",
    "\n",
    "        - Example Input: \"Eunoia\"\n",
    "        - Example Output: \"Congratulations, you passed the Vowel Test\"\n",
    "\n",
    "        - Example Input: \"devCodeCamp\"\n",
    "        - Example Output: \"Wrong! Try another string!\""
   ]
  },
  {
   "cell_type": "code",
   "execution_count": null,
   "metadata": {},
   "outputs": [],
   "source": [
    "def vowel_checker(string_to_check):\n",
    "    pass"
   ]
  },
  {
   "cell_type": "markdown",
   "metadata": {},
   "source": [
    "##### Write a function that takes in a list of integers\n",
    "    - This function should create a NEW list of all numbers that appear multiple times in the list\n",
    "    - Then, return the list of duplicates, and print it to the console\n",
    "    - HINT: the .count() function will be helpful for this task!"
   ]
  },
  {
   "cell_type": "code",
   "execution_count": null,
   "metadata": {},
   "outputs": [],
   "source": [
    "def list_duplicate_checker(list_to_check):\n",
    "    pass"
   ]
  }
 ],
 "metadata": {
  "language_info": {
   "name": "python"
  },
  "orig_nbformat": 4
 },
 "nbformat": 4,
 "nbformat_minor": 2
}
