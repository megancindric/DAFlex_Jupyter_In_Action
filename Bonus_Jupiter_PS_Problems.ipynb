{
 "cells": [
  {
   "cell_type": "markdown",
   "metadata": {},
   "source": [
    "## Bonus Jupiter Notebook Practice\n",
    "##### Project overview here :)\n",
    "* Below will be a series of questions, followed by an empty Python and Markdown block.\n",
    "    * Use the Python code block to write your answers to each question.\n",
    "        * Once completed, select the play button to the left of the code block to execute your solution.\n",
    "        * The output will display below the code block.  Be sure to test and debug as you go to ensure you get the desired output for each question!\n",
    "    * Use the markdown block below each question to describe your solution steps and/or problem solving process\n",
    "        * Use `monospace font` for any variable or function names <br>\n",
    "        * Use **bold** or *italicized* text to add emphasis to a word or phrase <br>\n",
    "        * You can also annotate your code within the Python blocks, using comments!\n",
    "<br>"
   ]
  },
  {
   "cell_type": "markdown",
   "metadata": {},
   "source": [
    "##### 1. Write a function that takes in a list of numbers\n",
    "* Your function should create a new dictionary, with two keys\n",
    "    * The \"Odd\" key should hold a list of all odd values\n",
    "    * The \"Even\" key should hold a list of all even values\n",
    "* The function should return this new dictionary\n",
    "* Print the resulting dictionary to the terminal.\n"
   ]
  },
  {
   "cell_type": "markdown",
   "metadata": {},
   "source": [
    "##### Problem 1 Solution Steps:\n",
    "*\n",
    "*\n",
    "*"
   ]
  },
  {
   "cell_type": "code",
   "execution_count": null,
   "metadata": {},
   "outputs": [],
   "source": [
    "# Problem 1 Solution\n",
    "def odd_even_dictionary(list_of_integers):\n",
    "    pass"
   ]
  },
  {
   "cell_type": "markdown",
   "metadata": {},
   "source": [
    "##### 2. Write a function that takes in a dictionary\n",
    "* All of the **VALUES** within this dictionary should be **INTEGERS**\n",
    "* This function should calculate the **total sum** of all dictionary values\n",
    "* Then, return the total sum, and print it to the console"
   ]
  },
  {
   "cell_type": "markdown",
   "metadata": {},
   "source": [
    "##### Problem 2 Solution Steps:\n",
    "*\n",
    "*\n",
    "*"
   ]
  },
  {
   "cell_type": "code",
   "execution_count": null,
   "metadata": {},
   "outputs": [],
   "source": [
    "# Problem 2 Solution\n",
    "def dictionary_sum_calculator(integer_dictionary):\n",
    "    pass"
   ]
  },
  {
   "cell_type": "markdown",
   "metadata": {},
   "source": [
    "##### 3. Write a function that takes in a list of integers\n",
    "* This function should create a **NEW** list of all numbers that appear multiple times in the list\n",
    "* Then, return the list of duplicates, and print it to the console\n",
    "    * **HINT: the `.count()` function will be helpful for this task!**"
   ]
  },
  {
   "cell_type": "markdown",
   "metadata": {},
   "source": [
    "##### Problem 3 Solution Steps:\n",
    "*\n",
    "*\n",
    "*"
   ]
  },
  {
   "cell_type": "code",
   "execution_count": null,
   "metadata": {},
   "outputs": [],
   "source": [
    "# Problem 3 Solution\n",
    "def list_duplicate_checker(list_to_check):\n",
    "    pass"
   ]
  },
  {
   "cell_type": "markdown",
   "metadata": {},
   "source": [
    "##### 4. Write a function that takes in an **integer**\n",
    "* This function will print a pyramid of asterisks *, with the same number of rows as the passed-in value\n",
    "    * **Example:** If we pass in **3**, we would expect the following output:\n",
    "    ```\n",
    "        *\n",
    "       ***\n",
    "      *****\n",
    "    ```"
   ]
  },
  {
   "cell_type": "markdown",
   "metadata": {},
   "source": [
    "##### Problem 4 Solution Steps:\n",
    "*\n",
    "*\n",
    "*"
   ]
  },
  {
   "cell_type": "code",
   "execution_count": null,
   "metadata": {},
   "outputs": [],
   "source": [
    "# Problem 4 Solution\n",
    "def pyramid_generator(number_of_rows):\n",
    "    pass"
   ]
  },
  {
   "cell_type": "markdown",
   "metadata": {},
   "source": [
    "##### 5. Instead of using a parameter, write a void function that will print a pyramid of asterisks *, using **user input** to calculate the number of rows to print"
   ]
  },
  {
   "cell_type": "markdown",
   "metadata": {},
   "source": [
    "##### Problem 5 Solution Steps:\n",
    "*\n",
    "*\n",
    "*"
   ]
  },
  {
   "cell_type": "code",
   "execution_count": null,
   "metadata": {},
   "outputs": [],
   "source": [
    "# Problem 5 Solution\n",
    "def user_input_pyramid_generator():\n",
    "    pass"
   ]
  },
  {
   "cell_type": "markdown",
   "metadata": {},
   "source": [
    "### Bonus Markdown Challenges\n",
    "* Below will be a series of questions, followed by an empty Markdown block.\n",
    "    * Use the markdown block below each question to answer each question, with the desired styles applied\n",
    "    * Refer to the HelpKit Markdown Cheatsheet (LINK THIS HERE!!) as a resource for styling your markdown blocks!\n",
    "        * Use `monospace font` for any variable or function names <br>\n",
    "        * Use **bold** or *italicized* text to add emphasis to a word or phrase <br>\n",
    "        * You can also annotate your code within the Python blocks, using comments!"
   ]
  }
 ],
 "metadata": {
  "language_info": {
   "name": "python"
  },
  "orig_nbformat": 4
 },
 "nbformat": 4,
 "nbformat_minor": 2
}
