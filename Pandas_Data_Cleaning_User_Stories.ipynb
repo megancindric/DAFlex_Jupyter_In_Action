{
 "cells": [
  {
   "cell_type": "markdown",
   "metadata": {},
   "source": [
    "## Project: Data Cleaning with Pandas\n",
    "\n",
    "#### Insert project overview here :)\n",
    "* Will include .csv file of \"dirty\" dataset in repository.  Students will import the data using Pandas, and perform the below steps to clean the dataset accordingly\n",
    "    * Will have a similar data set to clean in Excel, which must be done manually\n",
    "    \n"
   ]
  },
  {
   "cell_type": "markdown",
   "metadata": {},
   "source": [
    "##### As a Data Analyst, I want to set up the proper imports so I have access to the Pandas library"
   ]
  },
  {
   "cell_type": "code",
   "execution_count": null,
   "metadata": {},
   "outputs": [],
   "source": [
    "import pandas as pd"
   ]
  },
  {
   "cell_type": "markdown",
   "metadata": {},
   "source": [
    "##### As a Data Analyst, I want to use the appropriate function to import and store my .csv file in a variable\n",
    "* Then, I want to print the **first five rows** of the resulting DataFrame"
   ]
  },
  {
   "cell_type": "code",
   "execution_count": null,
   "metadata": {},
   "outputs": [],
   "source": []
  },
  {
   "cell_type": "markdown",
   "metadata": {},
   "source": [
    "##### As a Data Analyst, I want to use the appropriate function to view the **info** of my DataFrame, so I am aware of the data types of my columns, and any null values present in the DataFrame"
   ]
  },
  {
   "cell_type": "code",
   "execution_count": null,
   "metadata": {},
   "outputs": [],
   "source": []
  },
  {
   "cell_type": "markdown",
   "metadata": {},
   "source": [
    "##### As a Data Analyst, I want to use the appropriate function to **remove** any null values from the DataFrame\n",
    "* I want to use the appropriate flag to **modify my existing DataFrame variable**"
   ]
  },
  {
   "cell_type": "code",
   "execution_count": null,
   "metadata": {},
   "outputs": [],
   "source": []
  },
  {
   "cell_type": "markdown",
   "metadata": {},
   "source": [
    "##### As a Data Analyst, I want to use the appropriate function to check if there are any **duplicate values** within my DataFrame"
   ]
  },
  {
   "cell_type": "code",
   "execution_count": null,
   "metadata": {},
   "outputs": [],
   "source": []
  },
  {
   "cell_type": "markdown",
   "metadata": {},
   "source": [
    "##### As a Data Analyst, I want to use the appropriate function to **remove** any duplicate values from the DataFrame\n",
    "* I want to use the appropriate flag to **modify my existing DataFrame variable**"
   ]
  },
  {
   "cell_type": "code",
   "execution_count": null,
   "metadata": {},
   "outputs": [],
   "source": []
  },
  {
   "cell_type": "markdown",
   "metadata": {},
   "source": [
    "##### As a Data Analyst, I want to output my cleaned DataFrame as a .csv file\n",
    "* I will name this file **\"cleaned_cars_dataset.csv\"**\n",
    "* I will include this .csv file in my GitHub repository"
   ]
  },
  {
   "cell_type": "code",
   "execution_count": null,
   "metadata": {},
   "outputs": [],
   "source": []
  }
 ],
 "metadata": {
  "language_info": {
   "name": "python"
  },
  "orig_nbformat": 4
 },
 "nbformat": 4,
 "nbformat_minor": 2
}
