{
 "cells": [
  {
   "cell_type": "markdown",
   "metadata": {},
   "source": [
    "## Lab: Introduction to Jupiter Notebooks\n",
    "\n",
    "##### Project overview here :)\n",
    "    - Below will be a series of Markdown blocks, with empty Python code blocks\n",
    "    - Use the code block below each question to write, test, and execute the Python function that solves that problem\n",
    "    - Be sure to watch the Code Demo: Debugging in Jupiter Notebooks before beginning!\n",
    "    - Project submission will be the entire notebook - be sure to thoroughly document your process using code comments and markdown blocks!\n",
    "<br>\n",
    "<br>"
   ]
  },
  {
   "cell_type": "markdown",
   "metadata": {},
   "source": [
    "##### 1. Print the message \"Hello World\" to the terminal.\n",
    "    - Write the corresponding code in the Python block below\n",
    "    - Once completed, select the play button to the left of the code block to execute the Python code\n",
    "    - The output will display below the code block.  Be sure to test and debug as you go to ensure you get the desired output for each question!"
   ]
  },
  {
   "cell_type": "code",
   "execution_count": null,
   "metadata": {},
   "outputs": [],
   "source": []
  },
  {
   "cell_type": "markdown",
   "metadata": {},
   "source": [
    "##### 2. Create a new list variable called desktop_items.\n",
    "    - Provide 3 initial string values in the list of items around you in your workspace\n",
    "        - \"keyboard\", \"coffee mug\", \"lamp\", etc.\n",
    "    - Print the value at the index 1 of your list"
   ]
  },
  {
   "cell_type": "code",
   "execution_count": null,
   "metadata": {},
   "outputs": [],
   "source": []
  },
  {
   "cell_type": "markdown",
   "metadata": {},
   "source": [
    "##### 3. Using the SAME variable from Question #2, add the string \"Rubber Duck\" to the end of your list\n",
    "    - Then, utilizing a For loop, print each item in the list to the terminal, one at a time"
   ]
  }
 ],
 "metadata": {
  "language_info": {
   "name": "python"
  },
  "orig_nbformat": 4
 },
 "nbformat": 4,
 "nbformat_minor": 2
}
