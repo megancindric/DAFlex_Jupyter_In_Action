{
 "cells": [
  {
   "cell_type": "markdown",
   "metadata": {},
   "source": [
    "## Lab: Introduction to Jupiter Notebooks\n",
    "\n",
    "##### Project overview here :)\n",
    "    - Below will be a series of Markdown blocks, with empty Python code blocks\n",
    "    - Use the code block below each question to write, test, and execute the Python function that solves that problem\n",
    "    - Be sure to watch the Code Demo: Debugging in Jupiter Notebooks before beginning!\n",
    "    - Project submission will be the entire notebook - be sure to thoroughly document your process using code comments and markdown blocks!\n",
    "<br>\n",
    "<br>"
   ]
  },
  {
   "cell_type": "markdown",
   "metadata": {},
   "source": [
    "##### 1. Print the message \"Hello World\" to the terminal.\n",
    "    - Write the corresponding code in the Python block below\n",
    "    - Once completed, select the play button to the left of the code block to execute the Python code\n",
    "    - The output will display below the code block.  Be sure to test and debug as you go to ensure you get the desired output for each question!"
   ]
  },
  {
   "cell_type": "code",
   "execution_count": null,
   "metadata": {},
   "outputs": [],
   "source": []
  },
  {
   "cell_type": "markdown",
   "metadata": {},
   "source": [
    "##### 2. Create a new list variable called desktop_items.\n",
    "    - Provide 3 initial string values in the list of items around you in your workspace\n",
    "        - \"keyboard\", \"coffee mug\", \"lamp\", etc.\n",
    "    - Print the value at the index 1 of your list"
   ]
  },
  {
   "cell_type": "code",
   "execution_count": null,
   "metadata": {},
   "outputs": [],
   "source": []
  },
  {
   "cell_type": "markdown",
   "metadata": {},
   "source": [
    "##### 3. Using the SAME variable from Question #2, add the string \"Rubber Duck\" to the end of your list\n",
    "    - Then, utilizing a For loop, print each item in the list to the terminal, one at a time"
   ]
  },
  {
   "cell_type": "code",
   "execution_count": null,
   "metadata": {},
   "outputs": [],
   "source": []
  },
  {
   "cell_type": "markdown",
   "metadata": {},
   "source": [
    "##### 4. Write a function that takes in a list of numbers\n",
    "    - Your function should create a new dictionary, with two keys\n",
    "        - The \"Odd\" key should hold a list of all odd values\n",
    "        - The \"Even\" key should hold a list of all even values\n",
    "    - The function should return this new dictionary\n",
    "    - Print the resulting dictionary to the terminal.\n"
   ]
  },
  {
   "cell_type": "code",
   "execution_count": null,
   "metadata": {},
   "outputs": [],
   "source": [
    "def odd_even_dictionary(list_of_integers):\n",
    "    pass"
   ]
  },
  {
   "cell_type": "markdown",
   "metadata": {},
   "source": [
    "##### 5. Write a function that takes in a string\n",
    "    - The function should determine if every vowel is present in that string\n",
    "        - If so, print \"Congratulations, you passed the Vowel Test\"\n",
    "        - therwise print \"Wrong! Try another string!\"\n",
    "    - HINT: A set of all vowels {'a','e','i','o','u'} will be helpful for this task!\n",
    "\n",
    "        - Example Input: \"Eunoia\"\n",
    "        - Example Output: \"Congratulations, you passed the Vowel Test\"\n",
    "\n",
    "        - Example Input: \"devCodeCamp\"\n",
    "        - Example Output: \"Wrong! Try another string!\""
   ]
  },
  {
   "cell_type": "code",
   "execution_count": null,
   "metadata": {},
   "outputs": [],
   "source": [
    "def vowel_checker(string_to_check):\n",
    "    pass"
   ]
  },
  {
   "cell_type": "markdown",
   "metadata": {},
   "source": [
    "##### 4. Write a function that takes in a list of integers\n",
    "    - This function should create a NEW list of all numbers that appear multiple times in the list\n",
    "    - Then, return the list of duplicates, and print it to the console\n",
    "    - HINT: the .count() function will be helpful for this task!"
   ]
  },
  {
   "cell_type": "code",
   "execution_count": null,
   "metadata": {},
   "outputs": [],
   "source": [
    "def list_duplicate_checker(list_to_check):\n",
    "    pass"
   ]
  }
 ],
 "metadata": {
  "language_info": {
   "name": "python"
  },
  "orig_nbformat": 4
 },
 "nbformat": 4,
 "nbformat_minor": 2
}
