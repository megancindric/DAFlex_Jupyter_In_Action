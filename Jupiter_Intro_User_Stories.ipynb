{
 "cells": [
  {
   "cell_type": "markdown",
   "metadata": {},
   "source": [
    "## Lab: Introduction to Jupiter Notebooks\n",
    "\n",
    "##### Project overview here :)\n",
    "    - Below will be a series of Markdown blocks, with empty Python code blocks\n",
    "    - Use the code block below each question to write, test, and execute the Python function that solves that problem\n",
    "    - Be sure to watch the Code Demo: Debugging in Jupiter Notebooks before beginning!\n",
    "    - Project submission will be the entire notebook - be sure to thoroughly document your process using code comments and markdown blocks!\n",
    "<br>\n",
    "<br>"
   ]
  },
  {
   "cell_type": "markdown",
   "metadata": {},
   "source": [
    "##### 1. Print the message \"Hello World\" to the terminal.\n",
    "    - Write the corresponding code in the Python block below\n",
    "    - Once completed, select the play button to the left of the code block to execute the Python code\n",
    "    - The output will display below the code block.  Be sure to test and debug as you go to ensure you get the desired output for each question!"
   ]
  },
  {
   "cell_type": "code",
   "execution_count": 1,
   "metadata": {},
   "outputs": [
    {
     "name": "stdout",
     "output_type": "stream",
     "text": [
      "Hello World!\n"
     ]
    }
   ],
   "source": [
    "print(\"Hello World!\")"
   ]
  },
  {
   "cell_type": "markdown",
   "metadata": {},
   "source": [
    "##### 2. Create a new list variable called desktop_items.\n",
    "    - Provide 3 initial string values in the list of items around you in your workspace\n",
    "        - \"keyboard\", \"coffee mug\", \"lamp\", etc.\n",
    "    - Print the value at the index 1 of your list"
   ]
  },
  {
   "cell_type": "code",
   "execution_count": null,
   "metadata": {},
   "outputs": [],
   "source": []
  },
  {
   "cell_type": "markdown",
   "metadata": {},
   "source": [
    "##### 3. Using the SAME variable from Question #2: \n",
    "    - Add the string \"Rubber Duck\" to the end of your list\n",
    "    - Then, utilizing a For loop, print each item in the list to the terminal, one at a time"
   ]
  },
  {
   "cell_type": "code",
   "execution_count": null,
   "metadata": {},
   "outputs": [],
   "source": []
  },
  {
   "cell_type": "markdown",
   "metadata": {},
   "source": [
    "##### 4. Create a new variable called my_dictionary, and set it's value as an empty Dictionary\n",
    "    - Create a new key on my_dictionary called \"first_name\", with a string value of your first name\n",
    "    - Print the phrase \"Hello from <YOURNAMEHERE>!\"\n",
    "        - Substitute <YOURNAMEHERE> with the value you just created for \"first_name\"\n",
    "    - Create a new key on my_dictionary called \"favorite_fruit\", with a string value of your favorite fruit\n",
    "    - Print the phrase \"My favorite fruit is <FAVORITEFRUIT>\n",
    "        - Substitute <FAVORITEFRUIT> with the value you just created for \"favorite_fruit\""
   ]
  },
  {
   "cell_type": "code",
   "execution_count": null,
   "metadata": {},
   "outputs": [],
   "source": []
  },
  {
   "cell_type": "markdown",
   "metadata": {},
   "source": [
    "##### 5. Using the SAME variable as Question #4:\n",
    "    - Create a new key on my_dictionary called \"desktop_items\", and assign it's value as the list variable created in Question #2\n",
    "    - Then, remove & return the item at Index 2, and print it to the terminal\n",
    "        - Use the my_dictionary variable for this, NOT the list variable created in Question #2!!\n"
   ]
  },
  {
   "cell_type": "code",
   "execution_count": null,
   "metadata": {},
   "outputs": [],
   "source": []
  },
  {
   "cell_type": "markdown",
   "metadata": {},
   "source": [
    "##### 6. Using the SAME variable as Question #4:\n",
    "    - Take input from the user, asking for their favorite fruit\n",
    "        - If that fruit is the same as the value of \"favorite_fruit\", print the phrase \"Excellent taste, I love <FAVORITEFRUIT>!\" to the console\n",
    "            - Substitute <FAVORITEFRUIT> with the value the user inputted\n",
    "        - If that fruit is NOT the same as the value of \"favorite_fruit\", update the value of \"favorite_fruit\" with that fruit!\n"
   ]
  },
  {
   "cell_type": "code",
   "execution_count": null,
   "metadata": {},
   "outputs": [],
   "source": []
  },
  {
   "cell_type": "markdown",
   "metadata": {},
   "source": [
    "##### 7. Using the SAME variable as Question #4:\n",
    "    - Create a new key on my_dictionary called \"favorite_numbers\"\n",
    "        - This key will have the following list value: [8, 13, 55, 2, 73, 88]\n",
    "    - Then, using a for loop, loop through this list of integers\n",
    "        - If the number is an EVEN number, print \"This number is even: <number>\"\n",
    "        - If the number is an ODD number, print \"This number is odd: <number>\"\n",
    "            - Substitute <number> with the current number in the list\n"
   ]
  },
  {
   "cell_type": "code",
   "execution_count": null,
   "metadata": {},
   "outputs": [],
   "source": []
  }
 ],
 "metadata": {
  "kernelspec": {
   "display_name": "Python 3.10.5 64-bit",
   "language": "python",
   "name": "python3"
  },
  "language_info": {
   "codemirror_mode": {
    "name": "ipython",
    "version": 3
   },
   "file_extension": ".py",
   "mimetype": "text/x-python",
   "name": "python",
   "nbconvert_exporter": "python",
   "pygments_lexer": "ipython3",
   "version": "3.10.5"
  },
  "orig_nbformat": 4,
  "vscode": {
   "interpreter": {
    "hash": "991b4f12e3cd7e62d84ec965b56412c4354ac1fe6297d96f50a80e713193dd77"
   }
  }
 },
 "nbformat": 4,
 "nbformat_minor": 2
}
